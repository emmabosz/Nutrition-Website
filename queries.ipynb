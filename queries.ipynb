{
 "cells": [
  {
   "cell_type": "code",
   "execution_count": 7,
   "id": "5b4ad62b",
   "metadata": {},
   "outputs": [],
   "source": [
    "from rdflib import Graph\n",
    "import json"
   ]
  },
  {
   "cell_type": "code",
   "execution_count": 8,
   "id": "4de1e6e0",
   "metadata": {},
   "outputs": [
    {
     "name": "stderr",
     "output_type": "stream",
     "text": [
      "http://example.org/food-nutrition#Fish_fatty_>5_g_fat_prepared_in_microwave_oven_no_ingredients_added does not look like a valid URI, trying to serialize this will break.\n",
      "http://example.org/food-nutrition#Soft_drink_w_sugar_and_sweetener_2-<5_CHO_w_caffeine does not look like a valid URI, trying to serialize this will break.\n",
      "http://example.org/food-nutrition#Margarine_80%_fat_<24_g_sat_fa_unsalted does not look like a valid URI, trying to serialize this will break.\n",
      "http://example.org/food-nutrition#Low_fat_margarine_prod_35%_fat_<10_g_sat_fa_unsalted does not look like a valid URI, trying to serialize this will break.\n",
      "http://example.org/food-nutrition#Pork_>15%_fat_raw_av does not look like a valid URI, trying to serialize this will break.\n",
      "http://example.org/food-nutrition#Margarine_80%_fat_>24_g_sat_fatty_acids_salted_for_NEVO_recipes does not look like a valid URI, trying to serialize this will break.\n",
      "http://example.org/food-nutrition#Veal_>5%_fat_raw_av does not look like a valid URI, trying to serialize this will break.\n",
      "http://example.org/food-nutrition#Mutton_>10g_fat_raw_av does not look like a valid URI, trying to serialize this will break.\n",
      "http://example.org/food-nutrition#Margarine_product_liquid_<60%_fat_<17_g_sat_fa_salted does not look like a valid URI, trying to serialize this will break.\n",
      "http://example.org/food-nutrition#Pork_>19%_fat_prepared_av does not look like a valid URI, trying to serialize this will break.\n",
      "http://example.org/food-nutrition#Fruit_juice_drink_w_sweetener_5-<8_g_CHO does not look like a valid URI, trying to serialize this will break.\n",
      "http://example.org/food-nutrition#Margarine_80%_fat_>24_g_sat_fa_salted does not look like a valid URI, trying to serialize this will break.\n",
      "http://example.org/food-nutrition#Water_>100_mg_calcium_p_litre does not look like a valid URI, trying to serialize this will break.\n",
      "http://example.org/food-nutrition#Veal_<5%_fat_raw_av does not look like a valid URI, trying to serialize this will break.\n",
      "http://example.org/food-nutrition#Margarine_product_60%_fat_<17g_sat_fa_salted does not look like a valid URI, trying to serialize this will break.\n",
      "http://example.org/food-nutrition#Meat_av_raw_<5%_fat_excl_liver does not look like a valid URI, trying to serialize this will break.\n",
      "http://example.org/food-nutrition#Ice_tea_w_sugar_4-<5_g_CHO does not look like a valid URI, trying to serialize this will break.\n",
      "http://example.org/food-nutrition#Margarine_liq_80%_fat_<17_g_sat_fa_salted does not look like a valid URI, trying to serialize this will break.\n",
      "http://example.org/food-nutrition#Beef_<5%_fat_raw_av does not look like a valid URI, trying to serialize this will break.\n",
      "http://example.org/food-nutrition#Beef_<10%_fat_prepared_av does not look like a valid URI, trying to serialize this will break.\n",
      "http://example.org/food-nutrition#Low_fat_margarine_40%_fat_<17_g_sat_fa_salted does not look like a valid URI, trying to serialize this will break.\n",
      "http://example.org/food-nutrition#Margarine_80%_fat_>24_g_sat_fa_unsalted does not look like a valid URI, trying to serialize this will break.\n",
      "http://example.org/food-nutrition#Low_fat_margarine_prod_Bewust_light_30%_fat_<10g_sat_fa_unsalted does not look like a valid URI, trying to serialize this will break.\n",
      "http://example.org/food-nutrition#Margarine_product_45%_fat_<17g_sat_fa_unsalted does not look like a valid URI, trying to serialize this will break.\n",
      "http://example.org/food-nutrition#Cooking_fat_liq_97%_fat_<17g_sat_fa_unsalted does not look like a valid URI, trying to serialize this will break.\n",
      "http://example.org/food-nutrition#Fish_fat_>5_g_fat_raw_av does not look like a valid URI, trying to serialize this will break.\n",
      "http://example.org/food-nutrition#Mutton_<10g_fat_raw_av does not look like a valid URI, trying to serialize this will break.\n",
      "http://example.org/food-nutrition#Low_fat_margarine_40%_fat_<17g_sat_fa_fortified_w_vit_E_salted does not look like a valid URI, trying to serialize this will break.\n",
      "http://example.org/food-nutrition#Beer_alcohol_free_<01_vol% does not look like a valid URI, trying to serialize this will break.\n",
      "http://example.org/food-nutrition#Fish_lean_<5_g_fat_average_prepared_in_microwave_oven_no_ingredients_added does not look like a valid URI, trying to serialize this will break.\n",
      "http://example.org/food-nutrition#Pork_<10%_fat_prepared_av does not look like a valid URI, trying to serialize this will break.\n",
      "http://example.org/food-nutrition#Meat_av_raw_>5%_fat_excl_liver does not look like a valid URI, trying to serialize this will break.\n",
      "http://example.org/food-nutrition#Ice_tea_w_sugar_5-<7_g_CHO does not look like a valid URI, trying to serialize this will break.\n",
      "http://example.org/food-nutrition#Low_fat_margarine_product_20%_fat_<10g_sat_salted does not look like a valid URI, trying to serialize this will break.\n",
      "http://example.org/food-nutrition#Cooking_fat_solid_97%_fat_>17_g_sat_fa_salted does not look like a valid URI, trying to serialize this will break.\n",
      "http://example.org/food-nutrition#Margarine_liq_80%_fat_<17g_sat_fa_unsalted does not look like a valid URI, trying to serialize this will break.\n",
      "http://example.org/food-nutrition#Lamb_<10_g_fat_raw_av does not look like a valid URI, trying to serialize this will break.\n",
      "http://example.org/food-nutrition#Margarine_product_60%_fat_>17_g_sat_fa_salted does not look like a valid URI, trying to serialize this will break.\n",
      "http://example.org/food-nutrition#Lamb_>10_g_fat_raw_av does not look like a valid URI, trying to serialize this will break.\n",
      "http://example.org/food-nutrition#Low_fat_marg_40%_fat_<17_g_sat_fa_unsalted does not look like a valid URI, trying to serialize this will break.\n",
      "http://example.org/food-nutrition#Cooking_fat_sol_97%_fat_>17g_sat_fa_unsalted does not look like a valid URI, trying to serialize this will break.\n",
      "http://example.org/food-nutrition#Beef_>10%_fat_prepared_av does not look like a valid URI, trying to serialize this will break.\n",
      "http://example.org/food-nutrition#Beef_>5%_fat_raw_av does not look like a valid URI, trying to serialize this will break.\n",
      "http://example.org/food-nutrition#Margarine_product_60%_fat_<17_g_sat_fa_unsalted does not look like a valid URI, trying to serialize this will break.\n",
      "http://example.org/food-nutrition#Cooking_fat_liquid_97%_fat_<17_g_sat_fa_salted does not look like a valid URI, trying to serialize this will break.\n",
      "http://example.org/food-nutrition#Soft_drink_w_sugar_and_sweetener_5-<8_g_CHO_w_caffeine does not look like a valid URI, trying to serialize this will break.\n",
      "http://example.org/food-nutrition#Pork_<5%_fat_raw_av does not look like a valid URI, trying to serialize this will break.\n",
      "http://example.org/food-nutrition#Margarine_product_liquid_<60%_fat_<17_g_sat_fa_unsalted does not look like a valid URI, trying to serialize this will break.\n",
      "http://example.org/food-nutrition#Soft_drink_w_sugar_and_sweetener_2-<5_g_CHO_wo_caffeine does not look like a valid URI, trying to serialize this will break.\n"
     ]
    },
    {
     "name": "stdout",
     "output_type": "stream",
     "text": [
      "Loaded 18783 triples.\n"
     ]
    }
   ],
   "source": [
    "# Create a graph\n",
    "g = Graph()\n",
    "\n",
    "# Parse the RDF/XML file\n",
    "g.parse(\"food_nutrition.rdf\", format=\"xml\")\n",
    "\n",
    "print(f\"Loaded {len(g)} triples.\")"
   ]
  },
  {
   "cell_type": "code",
   "execution_count": 9,
   "id": "87d36ad6",
   "metadata": {},
   "outputs": [],
   "source": [
    "q = \"\"\"\n",
    "PREFIX fn: <http://example.org/food-nutrition#>\n",
    "SELECT ?foodName ?diet ?benefit ?protein ?carbs ?fat ?vitaminC ?iron ?group ?subgroup\n",
    "WHERE {\n",
    "  ?food a fn:Food ;\n",
    "        fn:foodName ?foodName ;\n",
    "        fn:belongsToFoodWheelGroup ?group ;\n",
    "        fn:belongsToFoodWheelSubGroup ?subgroup ;\n",
    "        fn:belongsToDiet ?diet ;\n",
    "        fn:hasBenefit ?benefit ;\n",
    "        fn:hasProtein ?protein ;\n",
    "        fn:hasCarbohydrates ?carbs ;\n",
    "        fn:hasFat ?fat ;\n",
    "        fn:hasVitaminC ?vitaminC ;\n",
    "        fn:hasIron ?iron .\n",
    "}\n",
    "ORDER BY ?group ?subgroup ?foodName\n",
    "\"\"\"\n",
    "\n",
    "results = g.query(q)\n",
    "\n",
    "foods = [\n",
    "    {\n",
    "        \"foodName\": str(row.foodName),\n",
    "        \"diet\": str(row.diet).split(\"#\")[-1],\n",
    "        \"benefit\": str(row.benefit).split(\"#\")[-1],\n",
    "        \"protein\": float(row.protein),\n",
    "        \"carbohydrates\": float(row.carbs),\n",
    "        \"fat\": float(row.fat),\n",
    "        \"vitaminC\": float(row.vitaminC),\n",
    "        \"iron\": float(row.iron)\n",
    "    }\n",
    "    for row in results\n",
    "]\n",
    "\n",
    "with open(\"all_foods.json\", \"w\") as f:\n",
    "    json.dump(foods, f, indent=2)"
   ]
  },
  {
   "cell_type": "code",
   "execution_count": null,
   "id": "b6c209e6",
   "metadata": {},
   "outputs": [],
   "source": []
  }
 ],
 "metadata": {
  "kernelspec": {
   "display_name": "cssci",
   "language": "python",
   "name": "python3"
  },
  "language_info": {
   "codemirror_mode": {
    "name": "ipython",
    "version": 3
   },
   "file_extension": ".py",
   "mimetype": "text/x-python",
   "name": "python",
   "nbconvert_exporter": "python",
   "pygments_lexer": "ipython3",
   "version": "3.11.8"
  }
 },
 "nbformat": 4,
 "nbformat_minor": 5
}
