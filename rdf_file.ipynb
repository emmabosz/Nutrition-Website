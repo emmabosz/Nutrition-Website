{
 "cells": [
  {
   "cell_type": "code",
   "execution_count": 10,
   "id": "aca2bcb5",
   "metadata": {},
   "outputs": [],
   "source": [
    "import pandas as pd\n",
    "from rdflib import Graph, Namespace, Literal, RDF, RDFS, XSD, URIRef\n",
    "from urllib.parse import quote"
   ]
  },
  {
   "cell_type": "code",
   "execution_count": 11,
   "id": "9d55ac6e",
   "metadata": {},
   "outputs": [],
   "source": [
    "# Load NEVO data\n",
    "df = pd.read_csv(\"final_dataset_demo.csv\", delimiter=\",\")"
   ]
  },
  {
   "cell_type": "code",
   "execution_count": 12,
   "id": "7a75ac47",
   "metadata": {},
   "outputs": [
    {
     "name": "stdout",
     "output_type": "stream",
     "text": [
      "RDF file generated: food_nutrition.rdf\n",
      "RDF Turtle file generated: food_nutrition.ttl\n"
     ]
    }
   ],
   "source": [
    "# RDF Namespaces\n",
    "FN = Namespace(\"http://example.org/food-nutrition#\")\n",
    "XSD = Namespace(\"http://www.w3.org/2001/XMLSchema#\")\n",
    "\n",
    "g = Graph()\n",
    "g.bind(\"fn\", FN)\n",
    "g.bind(\"xsd\", XSD)\n",
    "\n",
    "# Define Classes (you already have these in your ontology)\n",
    "g.add((FN.Food, RDF.type, RDFS.Class))\n",
    "g.add((FN.Food_Wheel_Group, RDF.type, RDFS.Class))\n",
    "g.add((FN.Food_Wheel_Subgroup, RDF.type, RDFS.Class))\n",
    "g.add((FN.Diet, RDF.type, RDFS.Class))\n",
    "g.add((FN.Benefit, RDF.type, RDFS.Class))\n",
    "\n",
    "# Loop through DataFrame and add triples\n",
    "for idx, row in df.iterrows():\n",
    "    # URL-encode food name for URI\n",
    "    safe_food_name = quote(row[\"food_name\"], safe=\"\")  # encodes everything unsafe\n",
    "    food_uri = URIRef(FN + safe_food_name)\n",
    "\n",
    "    g.add((food_uri, RDF.type, FN.Food))\n",
    "    g.add((food_uri, FN.foodName, Literal(row[\"food_name\"], datatype=XSD.string)))\n",
    "    g.add((food_uri, FN.NEVOCode, Literal(str(row[\"NEVO-code\"]), datatype=XSD.string)))\n",
    "\n",
    "    # Nutritional data\n",
    "    if not pd.isnull(row.get(\"Calories (kcal)\")):\n",
    "        g.add((food_uri, FN.hasCalories, Literal(row[\"Calories (kcal)\"], datatype=XSD.float)))\n",
    "    if not pd.isnull(row.get(\"PROT (g)\")):\n",
    "        g.add((food_uri, FN.hasProtein, Literal(row[\"PROT (g)\"], datatype=XSD.float)))\n",
    "    if not pd.isnull(row.get(\"FAT (g)\")):\n",
    "        g.add((food_uri, FN.hasFat, Literal(row[\"FAT (g)\"], datatype=XSD.float)))\n",
    "    if not pd.isnull(row.get(\"VITB12 (µg)\")):\n",
    "        g.add((food_uri, FN.hasVitaminB12, Literal(row[\"VITB12 (µg)\"], datatype=XSD.float)))\n",
    "    if not pd.isnull(row.get(\"VITC (mg)\")):\n",
    "        g.add((food_uri, FN.hasVitaminC, Literal(row[\"VITC (mg)\"], datatype=XSD.float)))\n",
    "    if not pd.isnull(row.get(\"VITD (µg)\")):\n",
    "        g.add((food_uri, FN.hasVitaminD, Literal(row[\"VITD (µg)\"], datatype=XSD.float)))\n",
    "    if not pd.isnull(row.get(\"Iron (mg)\")):\n",
    "        g.add((food_uri, FN.hasIron, Literal(row[\"Iron (mg)\"], datatype=XSD.float)))\n",
    "\n",
    "    # Food wheel group and subgroup\n",
    "    if not pd.isnull(row.get(\"food_wheel_group\")):\n",
    "        group_uri = URIRef(FN + quote(row[\"food_wheel_group\"], safe=\"\"))\n",
    "        g.add((food_uri, FN.belongsToFoodWheelGroup, group_uri))\n",
    "    if not pd.isnull(row.get(\"food_wheel_subgroup\")):\n",
    "        subgroup_uri = URIRef(FN + quote(row[\"food_wheel_subgroup\"], safe=\"\"))\n",
    "        g.add((food_uri, FN.belongsToFoodWheelSubGroup, subgroup_uri))\n",
    "\n",
    "    # Diet label\n",
    "    if not pd.isnull(row.get(\"diet_label\")):\n",
    "        diet_uri = URIRef(FN + quote(row[\"diet_label\"], safe=\"\"))\n",
    "        g.add((food_uri, FN.belongsToDiet, diet_uri))\n",
    "\n",
    "    # Benefits\n",
    "    if not pd.isnull(row.get(\"benefits\")):\n",
    "        benefit_uri = URIRef(FN + quote(row[\"benefits\"], safe=\"\"))\n",
    "        g.add((food_uri, FN.hasBenefit, benefit_uri))\n",
    "\n",
    "# Save as RDF\n",
    "g.serialize(\"food_nutrition.rdf\", format=\"xml\")\n",
    "print(\"RDF file generated: food_nutrition.rdf\")\n",
    "\n",
    "# Serialize RDF to Turtle\n",
    "g.serialize(\"food_nutrition.ttl\", format=\"turtle\")\n",
    "print(\"RDF Turtle file generated: food_nutrition.ttl\")"
   ]
  },
  {
   "cell_type": "code",
   "execution_count": null,
   "id": "3375275b",
   "metadata": {},
   "outputs": [],
   "source": []
  }
 ],
 "metadata": {
  "kernelspec": {
   "display_name": "cssci",
   "language": "python",
   "name": "python3"
  },
  "language_info": {
   "codemirror_mode": {
    "name": "ipython",
    "version": 3
   },
   "file_extension": ".py",
   "mimetype": "text/x-python",
   "name": "python",
   "nbconvert_exporter": "python",
   "pygments_lexer": "ipython3",
   "version": "3.11.8"
  }
 },
 "nbformat": 4,
 "nbformat_minor": 5
}
