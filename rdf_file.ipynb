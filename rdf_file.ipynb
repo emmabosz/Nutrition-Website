{
 "cells": [
  {
   "cell_type": "code",
   "execution_count": 7,
   "id": "aca2bcb5",
   "metadata": {},
   "outputs": [],
   "source": [
    "import pandas as pd\n",
    "from rdflib import Graph, Namespace, Literal, RDF, RDFS, XSD, URIRef\n",
    "from urllib.parse import quote"
   ]
  },
  {
   "cell_type": "code",
   "execution_count": 8,
   "id": "9d55ac6e",
   "metadata": {},
   "outputs": [],
   "source": [
    "# Load NEVO data\n",
    "df = pd.read_csv(\"final_dataset_demo.csv\", delimiter=\",\")"
   ]
  },
  {
   "cell_type": "code",
   "execution_count": 9,
   "id": "7a75ac47",
   "metadata": {},
   "outputs": [
    {
     "name": "stdout",
     "output_type": "stream",
     "text": [
      "RDF file generated: food_nutrition.rdf\n",
      "RDF Turtle file generated: food_nutrition.ttl\n"
     ]
    }
   ],
   "source": [
    "# RDF Namespaces\n",
    "FN = Namespace(\"http://example.org/food-nutrition#\")\n",
    "XSD = Namespace(\"http://www.w3.org/2001/XMLSchema#\")\n",
    "\n",
    "g = Graph()\n",
    "g.bind(\"fn\", FN)\n",
    "g.bind(\"xsd\", XSD)\n",
    "\n",
    "# Define Classes (already in ontology)\n",
    "for cls in [\"Food\", \"Food_Wheel_Group\", \"Food_Wheel_Subgroup\", \"Diet\", \"Benefit\"]:\n",
    "    g.add((FN[cls], RDF.type, RDFS.Class))\n",
    "\n",
    "# Nutrients mapping: column -> (value_prop, unit_prop, unit)\n",
    "nutrients = {\n",
    "    \"Calories (kcal)\": (\"hasCalories\", \"hasCaloriesUnit\", \"kcal\"),\n",
    "    \"PROT (g)\": (\"hasProtein\", \"hasProteinUnit\", \"g\"),\n",
    "    \"FAT (g)\": (\"hasFat\", \"hasFatUnit\", \"g\"),\n",
    "    \"VITB12 (µg)\": (\"hasVitaminB12\", \"hasVitaminB12Unit\", \"µg\"),\n",
    "    \"VITC (mg)\": (\"hasVitaminC\", \"hasVitaminCUnit\", \"mg\"),\n",
    "    \"VITD (µg)\": (\"hasVitaminD\", \"hasVitaminDUnit\", \"µg\"),\n",
    "    \"Iron (mg)\": (\"hasIron\", \"hasIronUnit\", \"mg\")\n",
    "}\n",
    "\n",
    "# Loop through DataFrame and add triples\n",
    "for idx, row in df.iterrows():\n",
    "    safe_food_name = quote(row[\"food_name\"], safe=\"\")\n",
    "    food_uri = URIRef(FN + safe_food_name)\n",
    "\n",
    "    g.add((food_uri, RDF.type, FN.Food))\n",
    "    g.add((food_uri, FN.foodName, Literal(row[\"food_name\"], datatype=XSD.string)))\n",
    "    g.add((food_uri, FN.NEVOCode, Literal(str(row[\"NEVO-code\"]), datatype=XSD.string)))\n",
    "\n",
    "    # Add nutrients (value + unit)\n",
    "    for col, (val_prop, unit_prop, unit) in nutrients.items():\n",
    "        val = row.get(col)\n",
    "        if pd.notnull(val):\n",
    "            g.add((food_uri, FN[val_prop], Literal(float(val), datatype=XSD.float)))\n",
    "            g.add((food_uri, FN[unit_prop], Literal(unit, datatype=XSD.string)))\n",
    "\n",
    "    # Food wheel group/subgroup\n",
    "    if pd.notnull(row.get(\"food_wheel_group\")):\n",
    "        group_uri = URIRef(FN + quote(row[\"food_wheel_group\"], safe=\"\"))\n",
    "        g.add((food_uri, FN.belongsToFoodWheelGroup, group_uri))\n",
    "    if pd.notnull(row.get(\"food_wheel_subgroup\")):\n",
    "        subgroup_uri = URIRef(FN + quote(row[\"food_wheel_subgroup\"], safe=\"\"))\n",
    "        g.add((food_uri, FN.belongsToFoodWheelSubGroup, subgroup_uri))\n",
    "\n",
    "    # Diet\n",
    "    if pd.notnull(row.get(\"diet_label\")):\n",
    "        diet_uri = URIRef(FN + quote(row[\"diet_label\"], safe=\"\"))\n",
    "        g.add((food_uri, FN.belongsToDiet, diet_uri))\n",
    "\n",
    "    tags = row.get(\"tag\")\n",
    "    if pd.notnull(tags):\n",
    "        # if stored as string, convert using ast.literal_eval\n",
    "        if isinstance(tags, str):\n",
    "            import ast\n",
    "            try:\n",
    "                tags = ast.literal_eval(tags)\n",
    "            except:\n",
    "                tags = [tags]  # fallback: treat as single tag\n",
    "        # now iterate safely\n",
    "        for t in tags:\n",
    "            g.add((food_uri, FN.hasTag, Literal(t, datatype=XSD.string)))\n",
    "\n",
    "# Serialize RDF/XML\n",
    "g.serialize(\"food_nutrition.rdf\", format=\"xml\")\n",
    "print(\"RDF file generated: food_nutrition.rdf\")\n",
    "\n",
    "# Serialize Turtle\n",
    "g.serialize(\"food_nutrition.ttl\", format=\"turtle\")\n",
    "print(\"RDF Turtle file generated: food_nutrition.ttl\")"
   ]
  },
  {
   "cell_type": "code",
   "execution_count": null,
   "id": "3375275b",
   "metadata": {},
   "outputs": [],
   "source": []
  }
 ],
 "metadata": {
  "kernelspec": {
   "display_name": "cssci",
   "language": "python",
   "name": "python3"
  },
  "language_info": {
   "codemirror_mode": {
    "name": "ipython",
    "version": 3
   },
   "file_extension": ".py",
   "mimetype": "text/x-python",
   "name": "python",
   "nbconvert_exporter": "python",
   "pygments_lexer": "ipython3",
   "version": "3.11.8"
  }
 },
 "nbformat": 4,
 "nbformat_minor": 5
}
